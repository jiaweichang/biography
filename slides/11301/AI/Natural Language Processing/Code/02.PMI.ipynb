{
 "cells": [
  {
   "cell_type": "code",
   "execution_count": 1,
   "metadata": {},
   "outputs": [],
   "source": [
    "#載入相關套件\n",
    "import nltk  # 載入nltk套件\n",
    "from nltk.collocations import BigramCollocationFinder  # 從nltk套件中載入BigramCollocationFinder"
   ]
  },
  {
   "cell_type": "code",
   "execution_count": 2,
   "metadata": {},
   "outputs": [],
   "source": [
    "# 文本數據集\n",
    "corpus = [\n",
    "    'i like apples and bananas',\n",
    "    'bananas are yellow',\n",
    "    'apples are red',\n",
    "    # 更多文檔...\n",
    "]"
   ]
  },
  {
   "cell_type": "code",
   "execution_count": 3,
   "metadata": {},
   "outputs": [],
   "source": [
    "# 處理文本數據，將每個文檔拆分成單詞\n",
    "tokenized_corpus = [nltk.word_tokenize(doc) for doc in corpus]  # 對每份文檔進行斷詞處理"
   ]
  },
  {
   "cell_type": "code",
   "execution_count": 4,
   "metadata": {},
   "outputs": [],
   "source": [
    "# 創建BigramCollocationFinder對象\n",
    "finder = BigramCollocationFinder.from_documents(tokenized_corpus)  # 使用斷詞後的文本創建BigramCollocationFinder對象"
   ]
  },
  {
   "cell_type": "code",
   "execution_count": 5,
   "metadata": {},
   "outputs": [],
   "source": [
    "# 計算PMI值\n",
    "bigram_measures = nltk.collocations.BigramAssocMeasures()  # 創建BigramAssocMeasures對象\n",
    "pmi_scores = finder.score_ngrams(bigram_measures.pmi)  # 計算bigram的PMI值"
   ]
  },
  {
   "cell_type": "code",
   "execution_count": 6,
   "metadata": {},
   "outputs": [
    {
     "name": "stdout",
     "output_type": "stream",
     "text": [
      "運行結果：\n",
      "PMI(('i', 'like')): 3.46\n",
      "PMI(('and', 'bananas')): 2.46\n",
      "PMI(('apples', 'and')): 2.46\n",
      "PMI(('are', 'red')): 2.46\n",
      "PMI(('are', 'yellow')): 2.46\n",
      "PMI(('like', 'apples')): 2.46\n",
      "PMI(('apples', 'are')): 1.46\n",
      "PMI(('bananas', 'are')): 1.46\n"
     ]
    }
   ],
   "source": [
    "# 打印前N個PMI值最高的bigram\n",
    "N = 8\n",
    "print(\"運行結果：\")\n",
    "for bigram, pmi in pmi_scores[:N]:  # 印出前N個PMI值最高的bigram\n",
    "    print(f\"PMI({bigram}): {pmi:.2f}\")  # 印出bigram及其對應的PMI值"
   ]
  }
 ],
 "metadata": {
  "kernelspec": {
   "display_name": "Python 3",
   "language": "python",
   "name": "python3"
  },
  "language_info": {
   "codemirror_mode": {
    "name": "ipython",
    "version": 3
   },
   "file_extension": ".py",
   "mimetype": "text/x-python",
   "name": "python",
   "nbconvert_exporter": "python",
   "pygments_lexer": "ipython3",
   "version": "3.7.9"
  },
  "orig_nbformat": 4
 },
 "nbformat": 4,
 "nbformat_minor": 2
}
