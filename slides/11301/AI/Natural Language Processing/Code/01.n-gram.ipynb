{
 "cells": [
  {
   "cell_type": "code",
   "execution_count": 1,
   "metadata": {},
   "outputs": [],
   "source": [
    "#載入相關套件\n",
    "from sklearn.feature_extraction.text import CountVectorizer # 從sklearn套件中載入CountVectorizer"
   ]
  },
  {
   "cell_type": "code",
   "execution_count": 2,
   "metadata": {},
   "outputs": [],
   "source": [
    "#語料庫\n",
    "text = [\"orange banana apple grape\",\n",
    "        \"banana apple apple\",\n",
    "        \"grape\",\n",
    "        \"orange apple\"]\n"
   ]
  },
  {
   "cell_type": "code",
   "execution_count": 3,
   "metadata": {},
   "outputs": [],
   "source": [
    "#N-gram 模型建構\n",
    "\n",
    "ngram_vectorizer = CountVectorizer(ngram_range=(2, 2), decode_error=\"ignore\") # 創建一個2-gram的CountVectorizer"
   ]
  },
  {
   "cell_type": "code",
   "execution_count": 4,
   "metadata": {},
   "outputs": [
    {
     "name": "stdout",
     "output_type": "stream",
     "text": [
      "print(x1.toarray())運行結果：\n",
      "[[0 1 1 0 1]\n",
      " [1 0 1 0 0]\n",
      " [0 0 0 0 0]\n",
      " [0 0 0 1 0]]\n",
      "print(ngram_vectorizer.vocabulary_)運行結果：\n",
      "{'orange banana': 4, 'banana apple': 2, 'apple grape': 1, 'apple apple': 0, 'orange apple': 3}\n"
     ]
    }
   ],
   "source": [
    "#文本轉化為向量表示並顯示結果\n",
    "\n",
    "x1 = ngram_vectorizer.fit_transform(text) # 將文本轉換成2-gram的向量表示\n",
    "\n",
    "print(\"print(x1.toarray())運行結果：\")\n",
    "print(x1.toarray())  # 印出轉換後的向量表示\n",
    "print(\"print(ngram_vectorizer.vocabulary_)運行結果：\")\n",
    "print(ngram_vectorizer.vocabulary_)  # 印出2-gram的詞彙表"
   ]
  }
 ],
 "metadata": {
  "kernelspec": {
   "display_name": "Python 3",
   "language": "python",
   "name": "python3"
  },
  "language_info": {
   "codemirror_mode": {
    "name": "ipython",
    "version": 3
   },
   "file_extension": ".py",
   "mimetype": "text/x-python",
   "name": "python",
   "nbconvert_exporter": "python",
   "pygments_lexer": "ipython3",
   "version": "3.7.9"
  },
  "orig_nbformat": 4
 },
 "nbformat": 4,
 "nbformat_minor": 2
}
