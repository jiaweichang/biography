{
 "cells": [
  {
   "cell_type": "code",
   "execution_count": 1,
   "metadata": {},
   "outputs": [],
   "source": [
    "#載入相關套件\n",
    "from sklearn.feature_extraction.text import TfidfVectorizer # 從sklearn套件中載入TfidfVectorizer\n",
    "import pandas as pd # 載入pandas套件，用於資料處理"
   ]
  },
  {
   "cell_type": "code",
   "execution_count": 2,
   "metadata": {},
   "outputs": [],
   "source": [
    "# 語料庫\n",
    "corpus = [\n",
    "    \"This is the first document.\", \n",
    "    \"This document is the second document.\", \n",
    "    \"And this is the third one.\", \n",
    "    \"Is this the first document?\", \n",
    "]"
   ]
  },
  {
   "cell_type": "code",
   "execution_count": 3,
   "metadata": {},
   "outputs": [],
   "source": [
    "# 計算TF-IDF值\n",
    "vectorizer = TfidfVectorizer() # 初始化TfidfVectorizer\n",
    "X = vectorizer.fit_transform(corpus) # 對語料庫進行TF-IDF計算，得到特徵矩陣X"
   ]
  },
  {
   "cell_type": "code",
   "execution_count": 4,
   "metadata": {},
   "outputs": [],
   "source": [
    "# 將特徵矩陣轉換成DataFrame\n",
    "data = {'word': vectorizer.get_feature_names_out(), # 取得特徵詞列表\n",
    "        'tfidf': X.toarray().sum(axis=0).tolist()} # 計算每個詞的TF-IDF值\n",
    "df = pd.DataFrame(data) # 創建DataFrame"
   ]
  },
  {
   "cell_type": "code",
   "execution_count": 5,
   "metadata": {},
   "outputs": [],
   "source": [
    "# 根據TF-IDF值降序排序\n",
    "df_sorted = df.sort_values(by='tfidf', ascending=False) # 根據tfidf列降序排序"
   ]
  },
  {
   "cell_type": "code",
   "execution_count": 6,
   "metadata": {},
   "outputs": [
    {
     "name": "stdout",
     "output_type": "stream",
     "text": [
      "運行結果：\n",
      "       word     tfidf\n",
      "1  document  1.627206\n",
      "3        is  1.316363\n",
      "6       the  1.316363\n",
      "8      this  1.316363\n",
      "2     first  1.160572\n",
      "5    second  0.538648\n",
      "0       and  0.511849\n",
      "4       one  0.511849\n",
      "7     third  0.511849\n"
     ]
    }
   ],
   "source": [
    "# 輸出運行結果\n",
    "print(\"運行結果：\")\n",
    "print(df_sorted) # 印出排序後的DataFrame"
   ]
  }
 ],
 "metadata": {
  "kernelspec": {
   "display_name": "Python 3",
   "language": "python",
   "name": "python3"
  },
  "language_info": {
   "codemirror_mode": {
    "name": "ipython",
    "version": 3
   },
   "file_extension": ".py",
   "mimetype": "text/x-python",
   "name": "python",
   "nbconvert_exporter": "python",
   "pygments_lexer": "ipython3",
   "version": "3.7.9"
  },
  "orig_nbformat": 4
 },
 "nbformat": 4,
 "nbformat_minor": 2
}
