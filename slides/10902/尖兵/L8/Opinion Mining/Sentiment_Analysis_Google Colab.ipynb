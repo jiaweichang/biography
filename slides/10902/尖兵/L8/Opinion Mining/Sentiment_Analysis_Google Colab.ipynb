{
  "nbformat": 4,
  "nbformat_minor": 0,
  "metadata": {
    "colab": {
      "name": "Sentiment Analysis",
      "provenance": [],
      "collapsed_sections": [],
      "toc_visible": true
    },
    "kernelspec": {
      "name": "python3",
      "display_name": "Python 3"
    },
    "accelerator": "GPU"
  },
  "cells": [
    {
      "cell_type": "code",
      "metadata": {
        "id": "EBI0Uc49miR0",
        "colab": {
          "base_uri": "https://localhost:8080/"
        },
        "outputId": "879070cf-7263-44c5-f800-deca0a335b69"
      },
      "source": [
        "!nvidia-smi"
      ],
      "execution_count": 1,
      "outputs": [
        {
          "output_type": "stream",
          "text": [
            "Mon May 24 01:10:35 2021       \n",
            "+-----------------------------------------------------------------------------+\n",
            "| NVIDIA-SMI 465.19.01    Driver Version: 460.32.03    CUDA Version: 11.2     |\n",
            "|-------------------------------+----------------------+----------------------+\n",
            "| GPU  Name        Persistence-M| Bus-Id        Disp.A | Volatile Uncorr. ECC |\n",
            "| Fan  Temp  Perf  Pwr:Usage/Cap|         Memory-Usage | GPU-Util  Compute M. |\n",
            "|                               |                      |               MIG M. |\n",
            "|===============================+======================+======================|\n",
            "|   0  Tesla T4            Off  | 00000000:00:04.0 Off |                    0 |\n",
            "| N/A   47C    P8    10W /  70W |      0MiB / 15109MiB |      0%      Default |\n",
            "|                               |                      |                  N/A |\n",
            "+-------------------------------+----------------------+----------------------+\n",
            "                                                                               \n",
            "+-----------------------------------------------------------------------------+\n",
            "| Processes:                                                                  |\n",
            "|  GPU   GI   CI        PID   Type   Process name                  GPU Memory |\n",
            "|        ID   ID                                                   Usage      |\n",
            "|=============================================================================|\n",
            "|  No running processes found                                                 |\n",
            "+-----------------------------------------------------------------------------+\n"
          ],
          "name": "stdout"
        }
      ]
    },
    {
      "cell_type": "code",
      "metadata": {
        "id": "n0eZxVnOlqUg",
        "colab": {
          "base_uri": "https://localhost:8080/"
        },
        "outputId": "e7bc6208-9efd-483a-f123-42e64b5a381d"
      },
      "source": [
        "!wget https://raw.githubusercontent.com/jiaweichang/biography/master/slides/10902/%E5%B0%96%E5%85%B5/L8/Opinion%20Mining/gossip.json"
      ],
      "execution_count": 13,
      "outputs": [
        {
          "output_type": "stream",
          "text": [
            "--2021-05-24 02:04:13--  https://raw.githubusercontent.com/jiaweichang/biography/master/slides/10902/%E5%B0%96%E5%85%B5/L8/Opinion%20Mining/gossip.json\n",
            "Resolving raw.githubusercontent.com (raw.githubusercontent.com)... 185.199.108.133, 185.199.109.133, 185.199.110.133, ...\n",
            "Connecting to raw.githubusercontent.com (raw.githubusercontent.com)|185.199.108.133|:443... connected.\n",
            "HTTP request sent, awaiting response... 200 OK\n",
            "Length: 27130380 (26M) [text/plain]\n",
            "Saving to: ‘gossip.json.1’\n",
            "\n",
            "gossip.json.1       100%[===================>]  25.87M  78.8MB/s    in 0.3s    \n",
            "\n",
            "2021-05-24 02:04:14 (78.8 MB/s) - ‘gossip.json.1’ saved [27130380/27130380]\n",
            "\n"
          ],
          "name": "stdout"
        }
      ]
    },
    {
      "cell_type": "code",
      "metadata": {
        "id": "2rD7NuLcmyzU",
        "colab": {
          "base_uri": "https://localhost:8080/"
        },
        "outputId": "1c1a791c-3025-41bf-d414-c3ce952e612a"
      },
      "source": [
        "!wget https://github.com/jiaweichang/biography/raw/master/slides/10902/尖兵/L8/Opinion%20Mining/DejaVuSans.ttf"
      ],
      "execution_count": 14,
      "outputs": [
        {
          "output_type": "stream",
          "text": [
            "--2021-05-24 02:05:26--  https://github.com/jiaweichang/biography/raw/master/slides/10902/%E5%B0%96%E5%85%B5/L8/Opinion%20Mining/DejaVuSans.ttf\n",
            "Resolving github.com (github.com)... 192.30.255.112\n",
            "Connecting to github.com (github.com)|192.30.255.112|:443... connected.\n",
            "HTTP request sent, awaiting response... 302 Found\n",
            "Location: https://raw.githubusercontent.com/jiaweichang/biography/master/slides/10902/%E5%B0%96%E5%85%B5/L8/Opinion%20Mining/DejaVuSans.ttf [following]\n",
            "--2021-05-24 02:05:27--  https://raw.githubusercontent.com/jiaweichang/biography/master/slides/10902/%E5%B0%96%E5%85%B5/L8/Opinion%20Mining/DejaVuSans.ttf\n",
            "Resolving raw.githubusercontent.com (raw.githubusercontent.com)... 185.199.108.133, 185.199.109.133, 185.199.110.133, ...\n",
            "Connecting to raw.githubusercontent.com (raw.githubusercontent.com)|185.199.108.133|:443... connected.\n",
            "HTTP request sent, awaiting response... 200 OK\n",
            "Length: 21663376 (21M) [application/octet-stream]\n",
            "Saving to: ‘DejaVuSans.ttf’\n",
            "\n",
            "DejaVuSans.ttf      100%[===================>]  20.66M  57.5MB/s    in 0.4s    \n",
            "\n",
            "2021-05-24 02:05:28 (57.5 MB/s) - ‘DejaVuSans.ttf’ saved [21663376/21663376]\n",
            "\n"
          ],
          "name": "stdout"
        }
      ]
    },
    {
      "cell_type": "code",
      "metadata": {
        "id": "ln-uJlTMm2xx"
      },
      "source": [
        "#coding=utf-8 \n",
        "import json  #用來讀取/產生 json 格式的套件\n",
        "import jieba #用來處理中文斷詞的套件\n",
        "import numpy as np #用來處理數值矩陣的套件\n",
        "\n",
        "import matplotlib as mpl #用來繪製圖表的套件\n",
        "import matplotlib.pyplot as plt #為 matplotlib 的子套件，提供命令行式函數的集合\n",
        "import seaborn as sns #基礎於 matplotlib 的高階圖表的繪製套件\n",
        "\n",
        "\n",
        "'''sklearn 又名 scikit-learn，為機器學習方法的套件'''\n",
        "\n",
        "from sklearn.feature_extraction import DictVectorizer #用於轉換 dict 為 sklearn estimators 可用的向量\n",
        "from sklearn.feature_extraction.text import TfidfTransformer #將矩陣轉換為 TF 或 TF-IDF 表示\n",
        "from sklearn.svm import LinearSVC #以 LinearSVC 分類演算法為例\n",
        "\n",
        "from collections import defaultdict #使用 dict 儲存資料\n",
        "\n",
        "zhfont1 = mpl.font_manager.FontProperties(fname='Chinese.ttf') #讀取中文字型"
      ],
      "execution_count": 3,
      "outputs": []
    },
    {
      "cell_type": "code",
      "metadata": {
        "id": "N4PEztbSnJML"
      },
      "source": [
        "# load ptt posts\n",
        "\n",
        "path = 'gossip.json' # 欲載入文檔之路徑\n",
        "\n",
        "with open(path, encoding='utf8') as f:\n",
        "    posts = json.load(f)"
      ],
      "execution_count": 4,
      "outputs": []
    },
    {
      "cell_type": "code",
      "metadata": {
        "id": "SvPnmAy7nM0E"
      },
      "source": [
        "\n",
        "# get pushes\n",
        "\n",
        "total_comments = defaultdict(int)\n",
        "total_pushes = defaultdict(int)\n",
        "total_hates = defaultdict(int)\n",
        "\n",
        "for post in posts:\n",
        "    for comment in post['comments']:\n",
        "        user = comment['user']\n",
        "        total_comments[user] += 1\n",
        "\n",
        "        if comment['score'] > 0:\n",
        "            total_pushes[user] += 1\n",
        "        elif comment['score'] < 0:\n",
        "            total_hates[user] += 1"
      ],
      "execution_count": 5,
      "outputs": []
    },
    {
      "cell_type": "code",
      "metadata": {
        "id": "CVuMvi2mnRb8"
      },
      "source": [
        "def show_distributions(counts, pushes, hates):\n",
        "    sorted_cnts = [t[0] for t in sorted(counts.items(), key=lambda x: -x[1])][:20] #取前20個最踴躍回覆者之數據\n",
        "    usernames = [u for u in sorted_cnts]\n",
        "    total_y = [counts[u] for u in sorted_cnts]\n",
        "    y_pushes = [pushes[u] for u in sorted_cnts]\n",
        "    y_hates = [hates[u] for u in sorted_cnts]\n",
        "    y_neutral = np.asarray(total_y) - np.asarray(y_pushes) - np.asarray(y_hates) #取得箭頭(中立)之留言數\n",
        "    y_NandP = y_neutral + np.asarray(y_pushes)\n",
        "\n",
        "    X = np.arange(20)\n",
        "    fig, ax = plt.subplots(figsize=(10,8))\n",
        "\n",
        "    plt.bar(X, np.asarray(y_pushes)+np.asarray(y_neutral), facecolor='#00ACC1', edgecolor='white')\n",
        "    plt.bar(X, np.asarray(y_neutral), facecolor='#7CB342', edgecolor='white')\n",
        "    plt.bar(X, -np.asarray(y_hates), facecolor='#FFB300', edgecolor='white')\n",
        "    plt.xlim(-0.5, 19.5)\n",
        "\n",
        "    ax.set_xticks(X)\n",
        "    ax.set_xticklabels(usernames, rotation=45, fontsize=10, fontdict={'fontname': 'DejaVu Sans', 'fontsize':10})\n",
        "    plt.ylim(-max(y_hates)*1.2, max(y_NandP)*1.2)\n",
        "    plt.yticks(())\n",
        "    \n",
        "    for x,y,z in zip(X, np.asarray(y_pushes)+np.asarray(y_neutral), np.asarray(y_pushes)):\n",
        "        plt.text(x, y+10, z, ha='center', va='bottom')\n",
        "\n",
        "    for x,y in zip(X, np.asarray(y_neutral)):\n",
        "        plt.text(x, y-35, y, ha='center', va='bottom')\n",
        "\n",
        "    for x,y in zip(X, -np.asarray(y_hates)):\n",
        "        plt.text(x, y-35, abs(y), ha='center', va='bottom')\n",
        "    \n",
        "    plt.show(fig)"
      ],
      "execution_count": 6,
      "outputs": []
    },
    {
      "cell_type": "code",
      "metadata": {
        "id": "rdm5ZgdRnaI0",
        "colab": {
          "base_uri": "https://localhost:8080/",
          "height": 533
        },
        "outputId": "ff091398-a0a6-4bf7-f745-336794032903"
      },
      "source": [
        "# display the distributions of top 20 users' comments\n",
        "show_distributions(total_comments, total_pushes, total_hates)"
      ],
      "execution_count": 7,
      "outputs": [
        {
          "output_type": "display_data",
          "data": {
            "image/png": "[encoded data removed]",
            "text/plain": [
              "<Figure size 720x576 with 1 Axes>"
            ]
          },
          "metadata": {
            "tags": [],
            "needs_background": "light"
          }
        }
      ]
    },
    {
      "cell_type": "code",
      "metadata": {
        "id": "ProyarSqncdt",
        "colab": {
          "base_uri": "https://localhost:8080/"
        },
        "outputId": "933e28b8-6c4c-4eb2-adf1-4afd17361ed5"
      },
      "source": [
        "# grap comments\n",
        "\n",
        "c_words = []\n",
        "c_scores = []\n",
        "\n",
        "for post in posts:\n",
        "    for comment in post['comments']: #取得八卦文文章之鄉民留言\n",
        "        l = comment['content'].strip() #去頭去尾換行之類的字符\n",
        "        if l and comment['score'] != 0:\n",
        "            d = defaultdict(int)\n",
        "            for w in jieba.cut(l): # w 是針對 l 中的文字斷詞後所得之詞語\n",
        "                d[w] += 1\n",
        "            if len(d) > 0:\n",
        "                c_scores.append(1 if comment['score'] > 0 else 0) #每一則留言之標記(推/噓)\n",
        "                c_words.append(d)"
      ],
      "execution_count": 8,
      "outputs": [
        {
          "output_type": "stream",
          "text": [
            "Building prefix dict from the default dictionary ...\n",
            "Dumping model to file cache /tmp/jieba.cache\n",
            "Loading model cost 0.795 seconds.\n",
            "Prefix dict has been built successfully.\n"
          ],
          "name": "stderr"
        }
      ]
    },
    {
      "cell_type": "code",
      "metadata": {
        "id": "4MJf5vUwngJY"
      },
      "source": [
        "# convert to vectors\n",
        "c_dvec = DictVectorizer()\n",
        "c_tfidf = TfidfTransformer()\n",
        "c_vector = c_dvec.fit_transform(c_words)\n",
        "c_X = c_tfidf.fit_transform(c_vector) #將一千篇所有鄉民留言的斷詞文字矩陣轉成向量並計算tf-idf"
      ],
      "execution_count": 9,
      "outputs": []
    },
    {
      "cell_type": "code",
      "metadata": {
        "id": "rqAU-QmOnk5a",
        "colab": {
          "base_uri": "https://localhost:8080/"
        },
        "outputId": "d19a5e61-393f-44f2-f22b-efcf5fb91029"
      },
      "source": [
        "# build and train the classifier\n",
        "c_svc = LinearSVC()\n",
        "c_svc.fit(c_X, c_scores)"
      ],
      "execution_count": 10,
      "outputs": [
        {
          "output_type": "execute_result",
          "data": {
            "text/plain": [
              "LinearSVC(C=1.0, class_weight=None, dual=True, fit_intercept=True,\n",
              "          intercept_scaling=1, loss='squared_hinge', max_iter=1000,\n",
              "          multi_class='ovr', penalty='l2', random_state=None, tol=0.0001,\n",
              "          verbose=0)"
            ]
          },
          "metadata": {
            "tags": []
          },
          "execution_count": 10
        }
      ]
    },
    {
      "cell_type": "code",
      "metadata": {
        "id": "8AG6np6Unl0U"
      },
      "source": [
        "#分類留言的情緒\n",
        "def comment_sentiment_classifier(model, dvec, tfidf, text):\n",
        "    l = text.strip() #去頭去尾換行之類的字符\n",
        "    d = defaultdict(int)\n",
        "\n",
        "    for w in jieba.cut(l): # w 是針對 l 中的文字斷詞後所得之詞語\n",
        "        d[w] += 1\n",
        "\n",
        "    comment_vec = dvec.transform(d)\n",
        "    comment_X = tfidf.transform(comment_vec)\n",
        "    result = model.predict(comment_X)\n",
        "    \n",
        "    if result == 1:\n",
        "        print(text,'---感覺還不錯哦！')\n",
        "    else:\n",
        "        print(text,'---你很不開心喔？')"
      ],
      "execution_count": 11,
      "outputs": []
    },
    {
      "cell_type": "code",
      "metadata": {
        "id": "fJ4BDVS2nppL",
        "colab": {
          "base_uri": "https://localhost:8080/"
        },
        "outputId": "3d21243f-0487-4d18-bf43-433528ecb25f"
      },
      "source": [
        "while (1):\n",
        "    s = input('輸入留言！偵測你的情緒狀態：')\n",
        "    if s == '-1':\n",
        "        print('掰掰！歡迎再來玩！')\n",
        "        break\n",
        "    else:\n",
        "        comment_sentiment_classifier(c_svc, c_dvec, c_tfidf, s)"
      ],
      "execution_count": 12,
      "outputs": [
        {
          "output_type": "stream",
          "text": [
            "輸入留言！偵測你的情緒狀態：罪有英德\n",
            "罪有英德 ---你很不開心喔？\n",
            "輸入留言！偵測你的情緒狀態：-1\n",
            "掰掰！歡迎再來玩！\n"
          ],
          "name": "stdout"
        }
      ]
    }
  ]
}