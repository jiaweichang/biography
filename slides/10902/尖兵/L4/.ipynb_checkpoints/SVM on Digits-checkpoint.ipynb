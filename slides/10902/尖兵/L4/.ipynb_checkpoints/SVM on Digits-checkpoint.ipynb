{
 "cells": [
  {
   "cell_type": "code",
   "execution_count": 3,
   "metadata": {},
   "outputs": [
    {
     "data": {
      "image/png": "[encoded data removed]",
      "text/plain": [
       "<Figure size 288x144 with 10 Axes>"
      ]
     },
     "metadata": {},
     "output_type": "display_data"
    }
   ],
   "source": [
    "from sklearn.datasets import load_digits  # 載入預設手寫資料庫\n",
    "from sklearn.model_selection import train_test_split  # 切割資料為訓練與測試集  \n",
    "from sklearn.preprocessing import StandardScaler  # 標準化\n",
    "from sklearn.svm import LinearSVC  \n",
    "from sklearn.metrics import classification_report  # 預測結果的分析工具  \n",
    "import matplotlib.pyplot as plt\n",
    "\n",
    "# 載入 `digits` --- Step 1. 圖像取得\n",
    "digits = load_digits()\n",
    "\n",
    "# 設定圖形的大小（寬, 高）\n",
    "fig = plt.figure(figsize=(4, 2))\n",
    "\n",
    "# 調整子圖形 \n",
    "fig.subplots_adjust(left=0, right=1, bottom=0, top=1, hspace=0.05, wspace=0.05)\n",
    "\n",
    "# 把前 8 個手寫數字顯示在子圖形\n",
    "for i in range(10):\n",
    "    # 在 2 x 4 網格中第 i + 1 個位置繪製子圖形，並且關掉座標軸刻度\n",
    "    ax = fig.add_subplot(2, 5, i + 1, xticks = [], yticks = [])\n",
    "    # 顯示圖形，色彩選擇灰階\n",
    "    ax.imshow(digits.images[i], cmap = plt.cm.binary) # Step 2. 預處理\n",
    "    # 在左下角標示目標值\n",
    "    ax.text(0, 9, str(digits.target[i]))\n",
    "\n",
    "# 顯示圖形\n",
    "plt.show()"
   ]
  },
  {
   "cell_type": "code",
   "execution_count": 2,
   "metadata": {},
   "outputs": [
    {
     "name": "stdout",
     "output_type": "stream",
     "text": [
      "             precision    recall  f1-score   support\n",
      "\n",
      "          0       0.96      1.00      0.98        47\n",
      "          1       0.76      0.97      0.85        33\n",
      "          2       1.00      1.00      1.00        39\n",
      "          3       0.92      0.96      0.94        49\n",
      "          4       0.94      0.96      0.95        51\n",
      "          5       1.00      0.97      0.99        40\n",
      "          6       1.00      0.98      0.99        46\n",
      "          7       0.98      0.96      0.97        46\n",
      "          8       0.93      0.75      0.83        53\n",
      "          9       0.91      0.89      0.90        46\n",
      "\n",
      "avg / total       0.94      0.94      0.94       450\n",
      "\n"
     ]
    }
   ],
   "source": [
    "# 分割數據\n",
    "X_train, X_test, Y_train, Y_test = train_test_split(digits.data, digits.target, test_size=0.25)  \n",
    "  \n",
    "ss = StandardScaler() #標準化方法 Step 2. 預處理 (原始值−均值)/標準差\n",
    "X_train = ss.fit_transform(X_train)\n",
    "X_test = ss.transform(X_test)\n",
    "  \n",
    "lsvc = LinearSVC()\n",
    "lsvc.fit(X_train, Y_train) # Step 3. & 4. 特徵提取與檢測  \n",
    "  \n",
    "Y_predict = lsvc.predict(X_test) # Step 5. 分類\n",
    "  \n",
    "print (classification_report(Y_test, Y_predict, target_names=digits.target_names.astype(str))) # Step 5. 驗證"
   ]
  },
  {
   "cell_type": "code",
   "execution_count": null,
   "metadata": {},
   "outputs": [],
   "source": []
  }
 ],
 "metadata": {
  "kernelspec": {
   "display_name": "Python 3",
   "language": "python",
   "name": "python3"
  },
  "language_info": {
   "codemirror_mode": {
    "name": "ipython",
    "version": 3
   },
   "file_extension": ".py",
   "mimetype": "text/x-python",
   "name": "python",
   "nbconvert_exporter": "python",
   "pygments_lexer": "ipython3",
   "version": "3.6.8"
  }
 },
 "nbformat": 4,
 "nbformat_minor": 2
}
