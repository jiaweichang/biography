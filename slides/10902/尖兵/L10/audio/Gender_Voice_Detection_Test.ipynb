{
  "nbformat": 4,
  "nbformat_minor": 0,
  "metadata": {
    "colab": {
      "name": "Gender_Voice_Detection_Test.ipynb",
      "provenance": []
    },
    "kernelspec": {
      "name": "python3",
      "display_name": "Python 3"
    },
    "language_info": {
      "name": "python"
    }
  },
  "cells": [
    {
      "cell_type": "code",
      "metadata": {
        "id": "UoBCm9MKJs0U"
      },
      "source": [
        "from tensorflow import keras\n",
        "from tensorflow.keras.models import model_from_json\n",
        "import librosa\n",
        "import numpy as np\n",
        "import pandas as pd"
      ],
      "execution_count": 1,
      "outputs": []
    },
    {
      "cell_type": "code",
      "metadata": {
        "colab": {
          "base_uri": "https://localhost:8080/"
        },
        "id": "vX-cCFe4KpHU",
        "outputId": "501f06ec-d268-4e64-db81-60c44fd1df8f"
      },
      "source": [
        "json_file = open('model.json', 'r')\n",
        "# 讀入模型\n",
        "loaded_model_json = json_file.read()\n",
        "json_file.close()\n",
        "loaded_model = model_from_json(loaded_model_json)\n",
        "# load weights into new model\n",
        "loaded_model.load_weights(\"Gender_Voice_Detection_Model.h5\")\n",
        "# 讀入先前訓練模型的權重\n",
        "print(\"Loaded model from disk\")"
      ],
      "execution_count": 2,
      "outputs": [
        {
          "output_type": "stream",
          "text": [
            "Loaded model from disk\n"
          ],
          "name": "stdout"
        }
      ]
    },
    {
      "cell_type": "code",
      "metadata": {
        "id": "feS0O6LJKr5M"
      },
      "source": [
        "# 輸入音訊預測\n",
        "def classify(pretrain, file):\n",
        "\tX, sample_rate = librosa.load(file, res_type='kaiser_fast',duration=2.5,sr=22050*2,offset=0.5)\n",
        "\tsample_rate = np.array(sample_rate)\n",
        "\tmfccs = np.mean(librosa.feature.mfcc(y=X, sr=sample_rate, n_mfcc=13),axis=0)\n",
        "\tfeaturelive = mfccs\n",
        "\tlivedf = featurelive\n",
        "\tlivedf= pd.DataFrame(data=livedf)\n",
        "\tlivedf = livedf.stack().to_frame().T\n",
        "\ttwodim= np.expand_dims(livedf, axis=2)\n",
        "\tlivepreds = pretrain.predict(twodim, batch_size=32, verbose=1)\n",
        "\treturn livepreds"
      ],
      "execution_count": 3,
      "outputs": []
    },
    {
      "cell_type": "code",
      "metadata": {
        "colab": {
          "base_uri": "https://localhost:8080/"
        },
        "id": "0pyjEsAGKugL",
        "outputId": "659f9b6e-f4e8-45fe-d2e7-50cf4b889f3a"
      },
      "source": [
        "print(classify(loaded_model, '01.wav'))\n",
        "print(\"---\")\n",
        "print(classify(loaded_model, '02.wav'))"
      ],
      "execution_count": 4,
      "outputs": [
        {
          "output_type": "stream",
          "text": [
            "1/1 [==============================] - 0s 326ms/step\n",
            "[[1.5567018e-04 9.9984431e-01]]\n",
            "---\n",
            "1/1 [==============================] - 0s 21ms/step\n",
            "[[9.9984443e-01 1.5555341e-04]]\n"
          ],
          "name": "stdout"
        }
      ]
    }
  ]
}