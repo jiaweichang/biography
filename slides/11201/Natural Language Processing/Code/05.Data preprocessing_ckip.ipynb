{
 "cells": [
  {
   "cell_type": "code",
   "execution_count": 1,
   "metadata": {},
   "outputs": [
    {
     "name": "stderr",
     "output_type": "stream",
     "text": [
      "C:\\Users\\baba1\\AppData\\Roaming\\Python\\Python37\\site-packages\\tqdm\\auto.py:22: TqdmWarning: IProgress not found. Please update jupyter and ipywidgets. See https://ipywidgets.readthedocs.io/en/stable/user_install.html\n",
      "  from .autonotebook import tqdm as notebook_tqdm\n"
     ]
    }
   ],
   "source": [
    "# -*- coding: utf-8 -*- # 設定編碼方式為UTF-8\n",
    "\n",
    "# 載入相關套件\n",
    "from ckip_transformers import __version__  # 載入ckip_transformers套件的版本信息\n",
    "from ckip_transformers.nlp import CkipWordSegmenter, CkipPosTagger, CkipNerChunker  # 從ckip_transformers.nlp中載入相應模組"
   ]
  },
  {
   "cell_type": "code",
   "execution_count": 2,
   "metadata": {},
   "outputs": [
    {
     "name": "stdout",
     "output_type": "stream",
     "text": [
      "Initializing drivers ... WS\n",
      "Initializing drivers ... POS\n"
     ]
    }
   ],
   "source": [
    "# 初始化 drivers\n",
    "print(\"Initializing drivers ... WS\")  # 印出初始化Word Segmenter的訊息\n",
    "ws_driver = CkipWordSegmenter(model=\"albert-base\")  # 初始化Word Segmenter\n",
    "print(\"Initializing drivers ... POS\")  # 印出初始化Pos Tagger的訊息\n",
    "pos_driver = CkipPosTagger(model=\"albert-base\")  # 初始化Pos Tagger"
   ]
  },
  {
   "cell_type": "code",
   "execution_count": 3,
   "metadata": {},
   "outputs": [],
   "source": [
    "def clean(sentence_ws, sentence_pos):  # 定義一個名為clean的函數，用於保留主要詞彙\n",
    "  short_with_pos = []  # 初始化一個空串列short_with_pos，用於儲存含有詞性的短詞\n",
    "  short_sentence = []  # 初始化一個空串列short_sentence，用於儲存短詞\n",
    "  stop_pos = set(['Nep', 'Nh', 'Nb']) # 定義一個包含特定詞性的集合stop_pos\n",
    "\n",
    "  # 逐詞進行處理\n",
    "  for word_ws, word_pos in zip(sentence_ws, sentence_pos):\n",
    "    # 只留名詞和動詞\n",
    "    is_N_or_V = word_pos.startswith(\"V\") or word_pos.startswith(\"N\")  # 判斷是否為名詞或動詞\n",
    "    # 去掉名詞裡的某些詞性\n",
    "    is_not_stop_pos = word_pos not in stop_pos  # 判斷是否為特定詞性\n",
    "    # 只剩一個字的詞也不留\n",
    "    is_not_one_charactor = not (len(word_ws) == 1)  # 判斷是否只有一個字母\n",
    "\n",
    "    # 符合條件的詞加入串列\n",
    "    if is_N_or_V and is_not_stop_pos and is_not_one_charactor:\n",
    "      short_with_pos.append(f\"{word_ws}({word_pos})\")  # 將短詞和詞性以特定格式加入short_with_pos串列\n",
    "      short_sentence.append(f\"{word_ws}\")  # 將短詞加入short_sentence串列\n",
    "\n",
    "  return (\" \".join(short_sentence), \" \".join(short_with_pos))  # 返回處理後的短詞和含詞性的短詞\n"
   ]
  },
  {
   "cell_type": "code",
   "execution_count": 4,
   "metadata": {},
   "outputs": [],
   "source": [
    "def main():\n",
    "    #語料庫\n",
    "    text = [\n",
    "        '經過多年激烈戰事，複製人大戰即將結束。絶地議會派歐比王將導致戰亂的主謀者繩之以法；不料，西斯勢力已悄悄深入銀河系，勢力漸大的議長白卜庭用黑暗勢力的力量，誘惑天行者安納金轉變成黑武士達斯維達，幫助他達成心願建立銀河帝國，剷除絕地武士…【星際大戰】系列電影最後一塊拼圖，喬治盧卡斯不僅要解開黑武士的影壇跨世紀謎團，更要著手打造影史最大星際戰爭。',\n",
    "    ]\n",
    "    ws = ws_driver(text)  # 進行斷詞\n",
    "    pos = pos_driver(ws)  # 進行詞性標注\n",
    "\n",
    "    print()  # 印出空行，增加可讀性\n",
    "    for sentence, sentence_ws, sentence_pos in zip(text, ws, pos):  # 逐句進行處理\n",
    "        print(\"原文：\")\n",
    "        print(sentence)  # 印出原文\n",
    "        (short, res) = clean(sentence_ws, sentence_pos)  # 呼叫clean函數進行處理\n",
    "        print(\"斷詞後：\")\n",
    "        print(short)  # 印出斷詞後的短詞\n",
    "        print(\"斷詞後+詞性標注：\")\n",
    "        print(res)  # 印出含詞性的短詞\n",
    "        print('='*50)  # 印出分隔線"
   ]
  },
  {
   "cell_type": "code",
   "execution_count": 5,
   "metadata": {},
   "outputs": [
    {
     "name": "stderr",
     "output_type": "stream",
     "text": [
      "Tokenization: 100%|██████████| 1/1 [00:00<?, ?it/s]\n",
      "Inference: 100%|██████████| 1/1 [00:00<00:00,  7.37it/s]\n",
      "Tokenization: 100%|██████████| 1/1 [00:00<?, ?it/s]\n",
      "Inference: 100%|██████████| 1/1 [00:00<00:00,  6.82it/s]"
     ]
    },
    {
     "name": "stdout",
     "output_type": "stream",
     "text": [
      "\n",
      "原文：\n",
      "經過多年激烈戰事，複製人大戰即將結束。絶地議會派歐比王將導致戰亂的主謀者繩之以法；不料，西斯勢力已悄悄深入銀河系，勢力漸大的議長白卜庭用黑暗勢力的力量，誘惑天行者安納金轉變成黑武士達斯維達，幫助他達成心願建立銀河帝國，剷除絕地武士…【星際大戰】系列電影最後一塊拼圖，喬治盧卡斯不僅要解開黑武士的影壇跨世紀謎團，更要著手打造影史最大星際戰爭。\n",
      "斷詞後：\n",
      "經過 激烈 戰事 複製人 大戰 結束 絶地 議會 派歐比王將 導致 戰亂 主謀 繩之以法 勢力 深入 銀河系 勢力 議長 黑暗 勢力 力量 誘惑 天行 轉變成 黑武士 幫助 達成 心願 建立 銀河 帝國 剷除 絕地 武士 星際 大戰 系列 電影 最後 拼圖 解開 黑武士 影壇 世紀 謎團 著手 打造 影史 星際 戰爭\n",
      "斷詞後+詞性標注：\n",
      "經過(VCL) 激烈(VH) 戰事(Na) 複製人(Na) 大戰(Na) 結束(VHC) 絶地(VJ) 議會(Nc) 派歐比王將(VF) 導致(VL) 戰亂(Na) 主謀(Na) 繩之以法(VB) 勢力(Na) 深入(VCL) 銀河系(Nc) 勢力(Na) 議長(Na) 黑暗(Na) 勢力(Na) 力量(Na) 誘惑(VC) 天行(Na) 轉變成(VG) 黑武士(VH) 幫助(VC) 達成(VC) 心願(Na) 建立(VC) 銀河(Na) 帝國(Na) 剷除(VC) 絕地(Na) 武士(Na) 星際(Nc) 大戰(Na) 系列(Na) 電影(Na) 最後(Nd) 拼圖(Na) 解開(VC) 黑武士(VH) 影壇(Nc) 世紀(Na) 謎團(Na) 著手(VF) 打造(VC) 影史(Na) 星際(Nc) 戰爭(Na)\n",
      "==================================================\n"
     ]
    },
    {
     "name": "stderr",
     "output_type": "stream",
     "text": [
      "\n"
     ]
    }
   ],
   "source": [
    "if __name__ == \"__main__\":\n",
    "    main()  # 呼叫main函數執行主程序"
   ]
  },
  {
   "cell_type": "markdown",
   "metadata": {},
   "source": [
    "CKIP-Transformers詞性標記："
   ]
  },
  {
   "cell_type": "markdown",
   "metadata": {},
   "source": [
    "![Alt text](image-1.png)"
   ]
  },
  {
   "cell_type": "markdown",
   "metadata": {},
   "source": []
  }
 ],
 "metadata": {
  "kernelspec": {
   "display_name": "Python 3",
   "language": "python",
   "name": "python3"
  },
  "language_info": {
   "codemirror_mode": {
    "name": "ipython",
    "version": 3
   },
   "file_extension": ".py",
   "mimetype": "text/x-python",
   "name": "python",
   "nbconvert_exporter": "python",
   "pygments_lexer": "ipython3",
   "version": "3.7.9"
  },
  "orig_nbformat": 4
 },
 "nbformat": 4,
 "nbformat_minor": 2
}
