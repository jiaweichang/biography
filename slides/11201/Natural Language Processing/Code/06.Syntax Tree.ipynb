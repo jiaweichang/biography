{
 "cells": [
  {
   "cell_type": "code",
   "execution_count": 1,
   "metadata": {},
   "outputs": [],
   "source": [
    "import nltk  # 載入nltk套件\n",
    "from nltk import pos_tag  # 從nltk中載入pos_tag函數，用於詞性標註\n",
    "from nltk import RegexpParser  # 從nltk中載入RegexpParser，用於正則表達式句法分析"
   ]
  },
  {
   "cell_type": "code",
   "execution_count": 2,
   "metadata": {},
   "outputs": [],
   "source": [
    "# 定義文本\n",
    "text = \"The quick brown fox jumps over the lazy dog\"  # 定義一段文本"
   ]
  },
  {
   "cell_type": "code",
   "execution_count": 3,
   "metadata": {},
   "outputs": [],
   "source": [
    "# 斷詞&詞性標註\n",
    "tokens = nltk.word_tokenize(text)  # 使用nltk進行斷詞\n",
    "tagged_tokens = pos_tag(tokens)  # 使用pos_tag進行詞性標註"
   ]
  },
  {
   "cell_type": "code",
   "execution_count": 4,
   "metadata": {},
   "outputs": [],
   "source": [
    "# 定義文法\n",
    "grammar = \"NP: {<DT>?<JJ>?<NN>}\"  # 定義一個名為grammar的文法，用於句法分析"
   ]
  },
  {
   "cell_type": "code",
   "execution_count": 5,
   "metadata": {},
   "outputs": [],
   "source": [
    "# 初始化句法分析器\n",
    "chunk_parser = RegexpParser(grammar)  # 使用定義的文法初始化句法分析器\n",
    "# 進行句法分析\n",
    "parse_tree = chunk_parser.parse(tagged_tokens)  # 使用句法分析器進行句法分析"
   ]
  },
  {
   "cell_type": "code",
   "execution_count": 8,
   "metadata": {},
   "outputs": [],
   "source": [
    "# 繪製句法樹\n",
    "parse_tree.draw() # 繪製句法樹"
   ]
  }
 ],
 "metadata": {
  "kernelspec": {
   "display_name": "Python 3",
   "language": "python",
   "name": "python3"
  },
  "language_info": {
   "codemirror_mode": {
    "name": "ipython",
    "version": 3
   },
   "file_extension": ".py",
   "mimetype": "text/x-python",
   "name": "python",
   "nbconvert_exporter": "python",
   "pygments_lexer": "ipython3",
   "version": "3.7.9"
  },
  "orig_nbformat": 4
 },
 "nbformat": 4,
 "nbformat_minor": 2
}
