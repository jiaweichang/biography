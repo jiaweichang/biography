{
 "cells": [
  {
   "cell_type": "code",
   "execution_count": 3,
   "metadata": {},
   "outputs": [],
   "source": [
    "#  ---導入模塊---\n",
    "from sklearn import datasets \n",
    "from sklearn.model_selection import train_test_split\n",
    "import pandas as pd"
   ]
  },
  {
   "cell_type": "code",
   "execution_count": 4,
   "metadata": {},
   "outputs": [
    {
     "name": "stdout",
     "output_type": "stream",
     "text": [
      "{'data': array([[1.423e+01, 1.710e+00, 2.430e+00, ..., 1.040e+00, 3.920e+00,\n",
      "        1.065e+03],\n",
      "       [1.320e+01, 1.780e+00, 2.140e+00, ..., 1.050e+00, 3.400e+00,\n",
      "        1.050e+03],\n",
      "       [1.316e+01, 2.360e+00, 2.670e+00, ..., 1.030e+00, 3.170e+00,\n",
      "        1.185e+03],\n",
      "       ...,\n",
      "       [1.327e+01, 4.280e+00, 2.260e+00, ..., 5.900e-01, 1.560e+00,\n",
      "        8.350e+02],\n",
      "       [1.317e+01, 2.590e+00, 2.370e+00, ..., 6.000e-01, 1.620e+00,\n",
      "        8.400e+02],\n",
      "       [1.413e+01, 4.100e+00, 2.740e+00, ..., 6.100e-01, 1.600e+00,\n",
      "        5.600e+02]]), 'target': array([0, 0, 0, 0, 0, 0, 0, 0, 0, 0, 0, 0, 0, 0, 0, 0, 0, 0, 0, 0, 0, 0,\n",
      "       0, 0, 0, 0, 0, 0, 0, 0, 0, 0, 0, 0, 0, 0, 0, 0, 0, 0, 0, 0, 0, 0,\n",
      "       0, 0, 0, 0, 0, 0, 0, 0, 0, 0, 0, 0, 0, 0, 0, 1, 1, 1, 1, 1, 1, 1,\n",
      "       1, 1, 1, 1, 1, 1, 1, 1, 1, 1, 1, 1, 1, 1, 1, 1, 1, 1, 1, 1, 1, 1,\n",
      "       1, 1, 1, 1, 1, 1, 1, 1, 1, 1, 1, 1, 1, 1, 1, 1, 1, 1, 1, 1, 1, 1,\n",
      "       1, 1, 1, 1, 1, 1, 1, 1, 1, 1, 1, 1, 1, 1, 1, 1, 1, 1, 1, 1, 2, 2,\n",
      "       2, 2, 2, 2, 2, 2, 2, 2, 2, 2, 2, 2, 2, 2, 2, 2, 2, 2, 2, 2, 2, 2,\n",
      "       2, 2, 2, 2, 2, 2, 2, 2, 2, 2, 2, 2, 2, 2, 2, 2, 2, 2, 2, 2, 2, 2,\n",
      "       2, 2]), 'target_names': array(['class_0', 'class_1', 'class_2'], dtype='<U7'), 'DESCR': 'Wine Data Database\\n====================\\n\\nNotes\\n-----\\nData Set Characteristics:\\n    :Number of Instances: 178 (50 in each of three classes)\\n    :Number of Attributes: 13 numeric, predictive attributes and the class\\n    :Attribute Information:\\n \\t\\t- 1) Alcohol\\n \\t\\t- 2) Malic acid\\n \\t\\t- 3) Ash\\n\\t\\t- 4) Alcalinity of ash  \\n \\t\\t- 5) Magnesium\\n\\t\\t- 6) Total phenols\\n \\t\\t- 7) Flavanoids\\n \\t\\t- 8) Nonflavanoid phenols\\n \\t\\t- 9) Proanthocyanins\\n\\t\\t- 10)Color intensity\\n \\t\\t- 11)Hue\\n \\t\\t- 12)OD280/OD315 of diluted wines\\n \\t\\t- 13)Proline\\n        \\t- class:\\n                - class_0\\n                - class_1\\n                - class_2\\n\\t\\t\\n    :Summary Statistics:\\n    \\n    ============================= ==== ===== ======= =====\\n                                   Min   Max   Mean     SD\\n    ============================= ==== ===== ======= =====\\n    Alcohol:                      11.0  14.8    13.0   0.8\\n    Malic Acid:                   0.74  5.80    2.34  1.12\\n    Ash:                          1.36  3.23    2.36  0.27\\n    Alcalinity of Ash:            10.6  30.0    19.5   3.3\\n    Magnesium:                    70.0 162.0    99.7  14.3\\n    Total Phenols:                0.98  3.88    2.29  0.63\\n    Flavanoids:                   0.34  5.08    2.03  1.00\\n    Nonflavanoid Phenols:         0.13  0.66    0.36  0.12\\n    Proanthocyanins:              0.41  3.58    1.59  0.57\\n    Colour Intensity:              1.3  13.0     5.1   2.3\\n    Hue:                          0.48  1.71    0.96  0.23\\n    OD280/OD315 of diluted wines: 1.27  4.00    2.61  0.71\\n    Proline:                       278  1680     746   315\\n    ============================= ==== ===== ======= =====\\n\\n    :Missing Attribute Values: None\\n    :Class Distribution: class_0 (59), class_1 (71), class_2 (48)\\n    :Creator: R.A. Fisher\\n    :Donor: Michael Marshall (MARSHALL%PLU@io.arc.nasa.gov)\\n    :Date: July, 1988\\n\\nThis is a copy of UCI ML Wine recognition datasets.\\nhttps://archive.ics.uci.edu/ml/machine-learning-databases/wine/wine.data\\n\\nThe data is the results of a chemical analysis of wines grown in the same\\nregion in Italy by three different cultivators. There are thirteen different\\nmeasurements taken for different constituents found in the three types of\\nwine.\\n\\nOriginal Owners: \\n\\nForina, M. et al, PARVUS - \\nAn Extendible Package for Data Exploration, Classification and Correlation. \\nInstitute of Pharmaceutical and Food Analysis and Technologies,\\nVia Brigata Salerno, 16147 Genoa, Italy.\\n\\nCitation:\\n\\nLichman, M. (2013). UCI Machine Learning Repository\\n[http://archive.ics.uci.edu/ml]. Irvine, CA: University of California,\\nSchool of Information and Computer Science. \\n\\nReferences\\n----------\\n(1) \\nS. Aeberhard, D. Coomans and O. de Vel, \\nComparison of Classifiers in High Dimensional Settings, \\nTech. Rep. no. 92-02, (1992), Dept. of Computer Science and Dept. of \\nMathematics and Statistics, James Cook University of North Queensland. \\n(Also submitted to Technometrics). \\n\\nThe data was used with many others for comparing various \\nclassifiers. The classes are separable, though only RDA \\nhas achieved 100% correct classification. \\n(RDA : 100%, QDA 99.4%, LDA 98.9%, 1NN 96.1% (z-transformed data)) \\n(All results using the leave-one-out technique) \\n\\n(2) \\nS. Aeberhard, D. Coomans and O. de Vel, \\n\"THE CLASSIFICATION PERFORMANCE OF RDA\" \\nTech. Rep. no. 92-01, (1992), Dept. of Computer Science and Dept. of \\nMathematics and Statistics, James Cook University of North Queensland. \\n(Also submitted to Journal of Chemometrics). \\n', 'feature_names': ['alcohol', 'malic_acid', 'ash', 'alcalinity_of_ash', 'magnesium', 'total_phenols', 'flavanoids', 'nonflavanoid_phenols', 'proanthocyanins', 'color_intensity', 'hue', 'od280/od315_of_diluted_wines', 'proline']}\n"
     ]
    }
   ],
   "source": [
    "# ---資料處理---\n",
    "wine = datasets.load_wine() # 載入SKlearn內建資料集\n",
    "print(wine) "
   ]
  },
  {
   "cell_type": "code",
   "execution_count": 5,
   "metadata": {},
   "outputs": [],
   "source": [
    "wine_data = wine.data # 定義資料特徵\n",
    "wine_target = wine.target # 定義資料標籤\n",
    "x_train, x_test, y_train, y_test = train_test_split(wine_data, wine_target, test_size = 0.2)\n",
    "# 使用\"train_test_spit\"將數據分成訓練和測試兩類,test_size = 0.2,代表測試數據佔20%"
   ]
  },
  {
   "cell_type": "code",
   "execution_count": 6,
   "metadata": {},
   "outputs": [
    {
     "name": "stdout",
     "output_type": "stream",
     "text": [
      "        0     1     2     3      4     5     6     7     8          9     10  \\\n",
      "0    14.23  1.71  2.43  15.6  127.0  2.80  3.06  0.28  2.29   5.640000  1.04   \n",
      "1    13.20  1.78  2.14  11.2  100.0  2.65  2.76  0.26  1.28   4.380000  1.05   \n",
      "2    13.16  2.36  2.67  18.6  101.0  2.80  3.24  0.30  2.81   5.680000  1.03   \n",
      "3    14.37  1.95  2.50  16.8  113.0  3.85  3.49  0.24  2.18   7.800000  0.86   \n",
      "4    13.24  2.59  2.87  21.0  118.0  2.80  2.69  0.39  1.82   4.320000  1.04   \n",
      "5    14.20  1.76  2.45  15.2  112.0  3.27  3.39  0.34  1.97   6.750000  1.05   \n",
      "6    14.39  1.87  2.45  14.6   96.0  2.50  2.52  0.30  1.98   5.250000  1.02   \n",
      "7    14.06  2.15  2.61  17.6  121.0  2.60  2.51  0.31  1.25   5.050000  1.06   \n",
      "8    14.83  1.64  2.17  14.0   97.0  2.80  2.98  0.29  1.98   5.200000  1.08   \n",
      "9    13.86  1.35  2.27  16.0   98.0  2.98  3.15  0.22  1.85   7.220000  1.01   \n",
      "10   14.10  2.16  2.30  18.0  105.0  2.95  3.32  0.22  2.38   5.750000  1.25   \n",
      "11   14.12  1.48  2.32  16.8   95.0  2.20  2.43  0.26  1.57   5.000000  1.17   \n",
      "12   13.75  1.73  2.41  16.0   89.0  2.60  2.76  0.29  1.81   5.600000  1.15   \n",
      "13   14.75  1.73  2.39  11.4   91.0  3.10  3.69  0.43  2.81   5.400000  1.25   \n",
      "14   14.38  1.87  2.38  12.0  102.0  3.30  3.64  0.29  2.96   7.500000  1.20   \n",
      "15   13.63  1.81  2.70  17.2  112.0  2.85  2.91  0.30  1.46   7.300000  1.28   \n",
      "16   14.30  1.92  2.72  20.0  120.0  2.80  3.14  0.33  1.97   6.200000  1.07   \n",
      "17   13.83  1.57  2.62  20.0  115.0  2.95  3.40  0.40  1.72   6.600000  1.13   \n",
      "18   14.19  1.59  2.48  16.5  108.0  3.30  3.93  0.32  1.86   8.700000  1.23   \n",
      "19   13.64  3.10  2.56  15.2  116.0  2.70  3.03  0.17  1.66   5.100000  0.96   \n",
      "20   14.06  1.63  2.28  16.0  126.0  3.00  3.17  0.24  2.10   5.650000  1.09   \n",
      "21   12.93  3.80  2.65  18.6  102.0  2.41  2.41  0.25  1.98   4.500000  1.03   \n",
      "22   13.71  1.86  2.36  16.6  101.0  2.61  2.88  0.27  1.69   3.800000  1.11   \n",
      "23   12.85  1.60  2.52  17.8   95.0  2.48  2.37  0.26  1.46   3.930000  1.09   \n",
      "24   13.50  1.81  2.61  20.0   96.0  2.53  2.61  0.28  1.66   3.520000  1.12   \n",
      "25   13.05  2.05  3.22  25.0  124.0  2.63  2.68  0.47  1.92   3.580000  1.13   \n",
      "26   13.39  1.77  2.62  16.1   93.0  2.85  2.94  0.34  1.45   4.800000  0.92   \n",
      "27   13.30  1.72  2.14  17.0   94.0  2.40  2.19  0.27  1.35   3.950000  1.02   \n",
      "28   13.87  1.90  2.80  19.4  107.0  2.95  2.97  0.37  1.76   4.500000  1.25   \n",
      "29   14.02  1.68  2.21  16.0   96.0  2.65  2.33  0.26  1.98   4.700000  1.04   \n",
      "..     ...   ...   ...   ...    ...   ...   ...   ...   ...        ...   ...   \n",
      "148  13.32  3.24  2.38  21.5   92.0  1.93  0.76  0.45  1.25   8.420000  0.55   \n",
      "149  13.08  3.90  2.36  21.5  113.0  1.41  1.39  0.34  1.14   9.400000  0.57   \n",
      "150  13.50  3.12  2.62  24.0  123.0  1.40  1.57  0.22  1.25   8.600000  0.59   \n",
      "151  12.79  2.67  2.48  22.0  112.0  1.48  1.36  0.24  1.26  10.800000  0.48   \n",
      "152  13.11  1.90  2.75  25.5  116.0  2.20  1.28  0.26  1.56   7.100000  0.61   \n",
      "153  13.23  3.30  2.28  18.5   98.0  1.80  0.83  0.61  1.87  10.520000  0.56   \n",
      "154  12.58  1.29  2.10  20.0  103.0  1.48  0.58  0.53  1.40   7.600000  0.58   \n",
      "155  13.17  5.19  2.32  22.0   93.0  1.74  0.63  0.61  1.55   7.900000  0.60   \n",
      "156  13.84  4.12  2.38  19.5   89.0  1.80  0.83  0.48  1.56   9.010000  0.57   \n",
      "157  12.45  3.03  2.64  27.0   97.0  1.90  0.58  0.63  1.14   7.500000  0.67   \n",
      "158  14.34  1.68  2.70  25.0   98.0  2.80  1.31  0.53  2.70  13.000000  0.57   \n",
      "159  13.48  1.67  2.64  22.5   89.0  2.60  1.10  0.52  2.29  11.750000  0.57   \n",
      "160  12.36  3.83  2.38  21.0   88.0  2.30  0.92  0.50  1.04   7.650000  0.56   \n",
      "161  13.69  3.26  2.54  20.0  107.0  1.83  0.56  0.50  0.80   5.880000  0.96   \n",
      "162  12.85  3.27  2.58  22.0  106.0  1.65  0.60  0.60  0.96   5.580000  0.87   \n",
      "163  12.96  3.45  2.35  18.5  106.0  1.39  0.70  0.40  0.94   5.280000  0.68   \n",
      "164  13.78  2.76  2.30  22.0   90.0  1.35  0.68  0.41  1.03   9.580000  0.70   \n",
      "165  13.73  4.36  2.26  22.5   88.0  1.28  0.47  0.52  1.15   6.620000  0.78   \n",
      "166  13.45  3.70  2.60  23.0  111.0  1.70  0.92  0.43  1.46  10.680000  0.85   \n",
      "167  12.82  3.37  2.30  19.5   88.0  1.48  0.66  0.40  0.97  10.260000  0.72   \n",
      "168  13.58  2.58  2.69  24.5  105.0  1.55  0.84  0.39  1.54   8.660000  0.74   \n",
      "169  13.40  4.60  2.86  25.0  112.0  1.98  0.96  0.27  1.11   8.500000  0.67   \n",
      "170  12.20  3.03  2.32  19.0   96.0  1.25  0.49  0.40  0.73   5.500000  0.66   \n",
      "171  12.77  2.39  2.28  19.5   86.0  1.39  0.51  0.48  0.64   9.899999  0.57   \n",
      "172  14.16  2.51  2.48  20.0   91.0  1.68  0.70  0.44  1.24   9.700000  0.62   \n",
      "173  13.71  5.65  2.45  20.5   95.0  1.68  0.61  0.52  1.06   7.700000  0.64   \n",
      "174  13.40  3.91  2.48  23.0  102.0  1.80  0.75  0.43  1.41   7.300000  0.70   \n",
      "175  13.27  4.28  2.26  20.0  120.0  1.59  0.69  0.43  1.35  10.200000  0.59   \n",
      "176  13.17  2.59  2.37  20.0  120.0  1.65  0.68  0.53  1.46   9.300000  0.60   \n",
      "177  14.13  4.10  2.74  24.5   96.0  2.05  0.76  0.56  1.35   9.200000  0.61   \n",
      "\n",
      "       11      12  \n",
      "0    3.92  1065.0  \n",
      "1    3.40  1050.0  \n",
      "2    3.17  1185.0  \n",
      "3    3.45  1480.0  \n",
      "4    2.93   735.0  \n",
      "5    2.85  1450.0  \n",
      "6    3.58  1290.0  \n",
      "7    3.58  1295.0  \n",
      "8    2.85  1045.0  \n",
      "9    3.55  1045.0  \n",
      "10   3.17  1510.0  \n",
      "11   2.82  1280.0  \n",
      "12   2.90  1320.0  \n",
      "13   2.73  1150.0  \n",
      "14   3.00  1547.0  \n",
      "15   2.88  1310.0  \n",
      "16   2.65  1280.0  \n",
      "17   2.57  1130.0  \n",
      "18   2.82  1680.0  \n",
      "19   3.36   845.0  \n",
      "20   3.71   780.0  \n",
      "21   3.52   770.0  \n",
      "22   4.00  1035.0  \n",
      "23   3.63  1015.0  \n",
      "24   3.82   845.0  \n",
      "25   3.20   830.0  \n",
      "26   3.22  1195.0  \n",
      "27   2.77  1285.0  \n",
      "28   3.40   915.0  \n",
      "29   3.59  1035.0  \n",
      "..    ...     ...  \n",
      "148  1.62   650.0  \n",
      "149  1.33   550.0  \n",
      "150  1.30   500.0  \n",
      "151  1.47   480.0  \n",
      "152  1.33   425.0  \n",
      "153  1.51   675.0  \n",
      "154  1.55   640.0  \n",
      "155  1.48   725.0  \n",
      "156  1.64   480.0  \n",
      "157  1.73   880.0  \n",
      "158  1.96   660.0  \n",
      "159  1.78   620.0  \n",
      "160  1.58   520.0  \n",
      "161  1.82   680.0  \n",
      "162  2.11   570.0  \n",
      "163  1.75   675.0  \n",
      "164  1.68   615.0  \n",
      "165  1.75   520.0  \n",
      "166  1.56   695.0  \n",
      "167  1.75   685.0  \n",
      "168  1.80   750.0  \n",
      "169  1.92   630.0  \n",
      "170  1.83   510.0  \n",
      "171  1.63   470.0  \n",
      "172  1.71   660.0  \n",
      "173  1.74   740.0  \n",
      "174  1.56   750.0  \n",
      "175  1.56   835.0  \n",
      "176  1.62   840.0  \n",
      "177  1.60   560.0  \n",
      "\n",
      "[178 rows x 13 columns]\n"
     ]
    }
   ],
   "source": [
    "print(pd.DataFrame(wine.data))\n",
    "# 印出資料特徵查看"
   ]
  },
  {
   "cell_type": "code",
   "execution_count": 7,
   "metadata": {},
   "outputs": [
    {
     "name": "stdout",
     "output_type": "stream",
     "text": [
      "     0\n",
      "0    0\n",
      "1    0\n",
      "2    0\n",
      "3    0\n",
      "4    0\n",
      "5    0\n",
      "6    0\n",
      "7    0\n",
      "8    0\n",
      "9    0\n",
      "10   0\n",
      "11   0\n",
      "12   0\n",
      "13   0\n",
      "14   0\n",
      "15   0\n",
      "16   0\n",
      "17   0\n",
      "18   0\n",
      "19   0\n",
      "20   0\n",
      "21   0\n",
      "22   0\n",
      "23   0\n",
      "24   0\n",
      "25   0\n",
      "26   0\n",
      "27   0\n",
      "28   0\n",
      "29   0\n",
      "..  ..\n",
      "148  2\n",
      "149  2\n",
      "150  2\n",
      "151  2\n",
      "152  2\n",
      "153  2\n",
      "154  2\n",
      "155  2\n",
      "156  2\n",
      "157  2\n",
      "158  2\n",
      "159  2\n",
      "160  2\n",
      "161  2\n",
      "162  2\n",
      "163  2\n",
      "164  2\n",
      "165  2\n",
      "166  2\n",
      "167  2\n",
      "168  2\n",
      "169  2\n",
      "170  2\n",
      "171  2\n",
      "172  2\n",
      "173  2\n",
      "174  2\n",
      "175  2\n",
      "176  2\n",
      "177  2\n",
      "\n",
      "[178 rows x 1 columns]\n"
     ]
    }
   ],
   "source": [
    "print(pd.DataFrame(wine.target))\n",
    "# 印出資料標籤查看"
   ]
  },
  {
   "cell_type": "code",
   "execution_count": 8,
   "metadata": {},
   "outputs": [],
   "source": [
    "from sklearn.neighbors import KNeighborsClassifier"
   ]
  },
  {
   "cell_type": "code",
   "execution_count": 9,
   "metadata": {},
   "outputs": [],
   "source": [
    "kNN = KNeighborsClassifier()"
   ]
  },
  {
   "cell_type": "code",
   "execution_count": 10,
   "metadata": {},
   "outputs": [
    {
     "data": {
      "text/plain": [
       "KNeighborsClassifier(algorithm='auto', leaf_size=30, metric='minkowski',\n",
       "           metric_params=None, n_jobs=1, n_neighbors=5, p=2,\n",
       "           weights='uniform')"
      ]
     },
     "execution_count": 10,
     "metadata": {},
     "output_type": "execute_result"
    }
   ],
   "source": [
    "kNN.fit(x_train, y_train)"
   ]
  },
  {
   "cell_type": "code",
   "execution_count": 11,
   "metadata": {},
   "outputs": [
    {
     "name": "stdout",
     "output_type": "stream",
     "text": [
      "[1 1 0 2 2 2 0 0 1 2 1 1 1 2 0 0 2 0 0 1 0 0 2 0 0 2 2 0 1 1 0 2 0 0 1 1]\n"
     ]
    }
   ],
   "source": [
    "print(kNN.predict(x_test))"
   ]
  },
  {
   "cell_type": "code",
   "execution_count": 12,
   "metadata": {},
   "outputs": [
    {
     "name": "stdout",
     "output_type": "stream",
     "text": [
      "[1 1 0 1 2 0 0 0 1 2 2 1 1 2 0 1 0 0 0 2 0 0 1 0 0 0 2 0 1 1 0 2 2 0 1 1]\n"
     ]
    }
   ],
   "source": [
    "print(y_test)"
   ]
  },
  {
   "cell_type": "code",
   "execution_count": null,
   "metadata": {},
   "outputs": [],
   "source": []
  }
 ],
 "metadata": {
  "kernelspec": {
   "display_name": "Python 3",
   "language": "python",
   "name": "python3"
  },
  "language_info": {
   "codemirror_mode": {
    "name": "ipython",
    "version": 3
   },
   "file_extension": ".py",
   "mimetype": "text/x-python",
   "name": "python",
   "nbconvert_exporter": "python",
   "pygments_lexer": "ipython3",
   "version": "3.6.8"
  }
 },
 "nbformat": 4,
 "nbformat_minor": 2
}
